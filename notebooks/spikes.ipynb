{
 "cells": [
  {
   "cell_type": "code",
   "execution_count": 1,
   "metadata": {},
   "outputs": [],
   "source": [
    "import numpy as np\n",
    "import matplotlib.pyplot as plt\n",
    "import matplotlib.cm as cm "
   ]
  },
  {
   "cell_type": "code",
   "execution_count": 2,
   "metadata": {},
   "outputs": [],
   "source": [
    "layer_0_sent_out = np.load('/depot/jgmakin/data/auditory_cortex/opt_inputs/conv_layer_0.npy', allow_pickle=True)\n",
    "layer_1_sent_out = np.load('/depot/jgmakin/data/auditory_cortex/opt_inputs/conv_layer_1.npy', allow_pickle=True)\n",
    "\n",
    "layer_0_opt_out = np.load('/depot/jgmakin/data/auditory_cortex/opt_inputs/conv_layer_0_outputs.npy', allow_pickle=True)\n",
    "layer_1_opt_out = np.load('/depot/jgmakin/data/auditory_cortex/opt_inputs/conv_layer_1_outputs.npy', allow_pickle=True)\n",
    "\n",
    "spikes_20 = np.load('/depot/jgmakin/data/auditory_cortex/spikes/win_20.npy', allow_pickle=True)\n",
    "spikes_40 = np.load('/depot/jgmakin/data/auditory_cortex/spikes/win_40.npy', allow_pickle=True)\n"
   ]
  },
  {
   "cell_type": "code",
   "execution_count": 3,
   "metadata": {},
   "outputs": [],
   "source": [
    "sent = 0\n",
    "spikes_40_sent_0 = np.concatenate([s.reshape(1, -1) for s in spikes_40[sent]], axis=0)\n",
    "spikes_20_sent_0 = np.concatenate([s.reshape(1, -1) for s in spikes_20[sent]], axis=0)"
   ]
  },
  {
   "cell_type": "code",
   "execution_count": 4,
   "metadata": {},
   "outputs": [
    {
     "name": "stderr",
     "output_type": "stream",
     "text": [
      "/home/akamsali/anaconda3/envs/research/lib/python3.8/site-packages/tqdm/auto.py:22: TqdmWarning: IProgress not found. Please update jupyter and ipywidgets. See https://ipywidgets.readthedocs.io/en/stable/user_install.html\n",
      "  from .autonotebook import tqdm as notebook_tqdm\n",
      "Some weights of the model checkpoint at facebook/s2t-small-librispeech-asr were not used when initializing Speech2TextModel: ['lm_head.weight']\n",
      "- This IS expected if you are initializing Speech2TextModel from the checkpoint of a model trained on another task or with another architecture (e.g. initializing a BertForSequenceClassification model from a BertForPreTraining model).\n",
      "- This IS NOT expected if you are initializing Speech2TextModel from the checkpoint of a model that you expect to be exactly identical (initializing a BertForSequenceClassification model from a BertForSequenceClassification model).\n",
      "Some weights of Speech2TextModel were not initialized from the model checkpoint at facebook/s2t-small-librispeech-asr and are newly initialized: ['model.encoder.embed_positions.weights', 'model.decoder.embed_positions.weights']\n",
      "You should probably TRAIN this model on a down-stream task to be able to use it for predictions and inference.\n"
     ]
    }
   ],
   "source": [
    "from transformers import Speech2TextFeatureExtractor, Speech2TextModel\n",
    "from scipy.io.wavfile import read\n",
    "\n",
    "from optimal_input.get_values import GetValues\n",
    "\n",
    "\n",
    "model = Speech2TextModel.from_pretrained(\"facebook/s2t-small-librispeech-asr\")\n",
    "feature_extractor = Speech2TextFeatureExtractor.from_pretrained(\"facebook/s2t-small-librispeech-asr\")\n",
    "# reg = transformer_regression(dir, subject)\n",
    "\n",
    "for param in model.parameters():\n",
    "    param.requires_grad = False\n",
    "\n",
    "layers = [\"encoder.conv.conv_layers.0\",\"encoder.conv.conv_layers.1\",\"encoder.layers.0.fc2\",\n",
    "\t\t\t\"encoder.layers.1.fc2\",\"encoder.layers.2.fc2\",\"encoder.layers.3.fc2\",\n",
    "\t\t\t\"encoder.layers.4.fc2\",\"encoder.layers.5.fc2\",\"encoder.layers.6.fc2\",\n",
    "\t\t\t\"encoder.layers.7.fc2\",\"encoder.layers.8.fc2\",\"encoder.layers.9.fc2\"]\n",
    "\n",
    "\n",
    "get_layer_output = GetValues(model)\n",
    "l = layers[1]\n",
    "layer_outs = []\n",
    "for l in layers[:2]:\n",
    "# for i in range(1):\n",
    "    # print(i)\n",
    "    sr, aud = read(\"/depot/jgmakin/data/audio_data/sent_\" + str(0) +\".wav\")\n",
    "    spect = feature_extractor(aud, padding=False, sampling_rate=16000, return_tensors=\"pt\").input_features\n",
    "    get_layer_output.get_layer_output(spect, l)\n",
    "\n",
    "    layer_outs.append(get_layer_output.hook.output_f[0].detach().numpy())"
   ]
  },
  {
   "cell_type": "code",
   "execution_count": 75,
   "metadata": {},
   "outputs": [],
   "source": [
    "a = np.zeros((layer_outs[0].shape[0], layer_outs[0].shape[1]//2))\n",
    "k=2\n",
    "for i in range(layer_outs[0].shape[1]//2):\n",
    "    # print(k*i, k*(i+1))\n",
    "    a[:, i] = layer_outs[0][:, k*i:k*(i+1)].sum(axis=1)\n",
    "\n",
    "down_sample_layer_0 = np.concatenate((a, layer_outs[0][:,-1].reshape(-1,1)), axis=1)\n"
   ]
  },
  {
   "cell_type": "code",
   "execution_count": 68,
   "metadata": {},
   "outputs": [],
   "source": [
    "betas_layer_0 = np.linalg.solve(down_sample_layer_0.dot(down_sample_layer_0.T), (down_sample_layer_0).dot(spikes_40_sent_0.T))\n",
    "betas_layer_1 = np.linalg.solve(layer_outs[1].dot(layer_outs[1].T), (layer_outs[1]).dot(spikes_40_sent_0.T))"
   ]
  },
  {
   "cell_type": "code",
   "execution_count": 85,
   "metadata": {},
   "outputs": [],
   "source": [
    "a = np.load('/depot/jgmakin/data/auditory_cortex/betas/layer_0.npy', allow_pickle=True)\n",
    "b = np.load('/depot/jgmakin/data/auditory_cortex/betas/layer_1.npy', allow_pickle=True)"
   ]
  },
  {
   "cell_type": "code",
   "execution_count": 87,
   "metadata": {},
   "outputs": [
    {
     "data": {
      "text/plain": [
       "(64, 95)"
      ]
     },
     "execution_count": 87,
     "metadata": {},
     "output_type": "execute_result"
    }
   ],
   "source": [
    "# layer_outs[0]\n",
    "(a.T.dot(layer_outs[0]))"
   ]
  }
 ],
 "metadata": {
  "kernelspec": {
   "display_name": "Python 3.8.13 ('research')",
   "language": "python",
   "name": "python3"
  },
  "language_info": {
   "codemirror_mode": {
    "name": "ipython",
    "version": 3
   },
   "file_extension": ".py",
   "mimetype": "text/x-python",
   "name": "python",
   "nbconvert_exporter": "python",
   "pygments_lexer": "ipython3",
   "version": "3.8.13"
  },
  "orig_nbformat": 4,
  "vscode": {
   "interpreter": {
    "hash": "c408ab8a03217f6e9092f099eca0907eb32b66978b2decf842aa5893f36a460f"
   }
  }
 },
 "nbformat": 4,
 "nbformat_minor": 2
}
