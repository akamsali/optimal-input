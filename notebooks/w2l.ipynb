{
 "cells": [
  {
   "cell_type": "code",
   "execution_count": 1,
   "metadata": {},
   "outputs": [
    {
     "name": "stderr",
     "output_type": "stream",
     "text": [
      "/home/akamsali/anaconda3/envs/research/lib/python3.8/site-packages/tqdm/auto.py:22: TqdmWarning: IProgress not found. Please update jupyter and ipywidgets. See https://ipywidgets.readthedocs.io/en/stable/user_install.html\n",
      "  from .autonotebook import tqdm as notebook_tqdm\n"
     ]
    }
   ],
   "source": [
    "from wav2letter.models import Wav2LetterRF\n",
    "from auditory_cortex.feature_extractors import FeatureExtractorW2L\n",
    "\n",
    "import wav2letter\n",
    "\n",
    "import torch\n",
    "import yaml\n",
    "import os\n",
    "from scipy.io.wavfile import read\n",
    "\n",
    "\n",
    "from transformers import Speech2TextFeatureExtractor\n",
    "from optimal_input.hook import Hook\n",
    "# from optimal_input.get_values import GetValues\n",
    "# from auditory_cortex.dataset import Neural_Data\n",
    "from auditory_cortex.regression import transformer_regression\n"
   ]
  },
  {
   "cell_type": "code",
   "execution_count": 2,
   "metadata": {},
   "outputs": [
    {
     "name": "stdout",
     "output_type": "stream",
     "text": [
      "Creating dataset and other objects...\n",
      "done\n"
     ]
    }
   ],
   "source": [
    "sr, aud = read(\"/depot/jgmakin/data/audio_data/sent_0.wav\")\n",
    "feature_extractor = Speech2TextFeatureExtractor.from_pretrained(\"facebook/s2t-small-librispeech-asr\")\n",
    "\n",
    "data_dir = '/depot/jgmakin/data/auditory_cortex/josh_data/data'\n",
    "sub = '200206'\n",
    "# dataset = Neural_Data(data_dir, sub)\n",
    "reg = transformer_regression(data_dir, sub, load_features=False)"
   ]
  },
  {
   "cell_type": "code",
   "execution_count": 3,
   "metadata": {},
   "outputs": [],
   "source": [
    "# get spikes\n",
    "spikes = reg.all_channel_spikes(bin_width = 40, sents = [0])"
   ]
  },
  {
   "cell_type": "code",
   "execution_count": 4,
   "metadata": {},
   "outputs": [],
   "source": [
    "# initialise model and layers\n",
    "\n",
    "dir = os.getcwd()\n",
    "conf_file = 'config_rf.yaml'\n",
    "manifest_file = os.path.join(os.path.dirname(wav2letter.__file__),\"conf\",conf_file)\n",
    "with open(manifest_file, 'r') as f:\n",
    "    model_param = yaml.load(f, Loader=yaml.FullLoader)\n",
    "\n",
    "checkpoint_file = \"Wav2letter-epoch=024-val_loss=0.37.ckpt\"\n",
    "checkpoint = os.path.join(model_param[\"results_dir\"],checkpoint_file)\n",
    "model = Wav2LetterRF.load_from_checkpoint(checkpoint, manifest=model_param)\n",
    "\n",
    "layers = [\"conv\" + str(x) for x in range(1, 16)]"
   ]
  },
  {
   "cell_type": "code",
   "execution_count": 6,
   "metadata": {},
   "outputs": [
    {
     "data": {
      "text/plain": [
       "tensor([[0.1307, 0.0125, 0.0159,  ..., 0.1200, 0.0265, 0.0535],\n",
       "        [0.1308, 0.0000, 0.0378,  ..., 0.1008, 0.0289, 0.0486],\n",
       "        [0.1300, 0.0000, 0.0311,  ..., 0.1029, 0.0278, 0.0534],\n",
       "        ...,\n",
       "        [0.1348, 0.0000, 0.0396,  ..., 0.1095, 0.0315, 0.0497],\n",
       "        [0.1289, 0.0007, 0.0349,  ..., 0.1071, 0.0317, 0.0483],\n",
       "        [0.1202, 0.0000, 0.0194,  ..., 0.0971, 0.0298, 0.0511]])"
      ]
     },
     "execution_count": 6,
     "metadata": {},
     "output_type": "execute_result"
    }
   ],
   "source": [
    "# extract features for betas\n",
    "extractor = FeatureExtractorW2L(model)\n",
    "extractor.translate(aud)"
   ]
  },
  {
   "cell_type": "code",
   "execution_count": 25,
   "metadata": {},
   "outputs": [
    {
     "data": {
      "text/plain": [
       "(64, 48)"
      ]
     },
     "execution_count": 25,
     "metadata": {},
     "output_type": "execute_result"
    }
   ],
   "source": [
    "s = np.array([spikes[k] for k in range(len(spikes.keys()))])\n",
    "s.shape"
   ]
  },
  {
   "cell_type": "code",
   "execution_count": 43,
   "metadata": {},
   "outputs": [
    {
     "data": {
      "text/plain": [
       "torch.Size([1531, 250])"
      ]
     },
     "execution_count": 43,
     "metadata": {},
     "output_type": "execute_result"
    }
   ],
   "source": [
    "# resample for betas\n",
    "a = extractor.get_features(0)\n",
    "a.shape"
   ]
  },
  {
   "cell_type": "code",
   "execution_count": 44,
   "metadata": {},
   "outputs": [
    {
     "data": {
      "text/plain": [
       "(48, 250)"
      ]
     },
     "execution_count": 44,
     "metadata": {},
     "output_type": "execute_result"
    }
   ],
   "source": [
    "import numpy as np \n",
    "from scipy import signal\n",
    "\n",
    "sent = 0\n",
    "bin_width = 40\n",
    "\n",
    "n = spikes[0].shape[0]\n",
    "resampled_features = signal.resample(a , n, axis=0)\n",
    "resampled_features.shape"
   ]
  },
  {
   "cell_type": "code",
   "execution_count": 45,
   "metadata": {},
   "outputs": [],
   "source": [
    "def get_beta(z, n):\n",
    "    return np.linalg.solve(z.T.dot(z), (z.T).dot(n))\n",
    "\n",
    "betas = get_beta(resampled_features, s.T)\n",
    "np.save(\"/depot/jgmakin/data/auditory_cortex/betas/w2l_l0.npy\", betas, allow_pickle=True)"
   ]
  },
  {
   "cell_type": "code",
   "execution_count": 49,
   "metadata": {},
   "outputs": [],
   "source": [
    "beta_l0 = np.load(\"/depot/jgmakin/data/auditory_cortex/betas/w2l_l0.npy\", allow_pickle=True)\n",
    "beta_l1 = np.load(\"/depot/jgmakin/data/auditory_cortex/betas/w2l_l1.npy\", allow_pickle=True)"
   ]
  },
  {
   "cell_type": "code",
   "execution_count": 64,
   "metadata": {},
   "outputs": [],
   "source": [
    "from optimal_input.opt_inp_w2l import GetOptInput\n",
    "\n",
    "for param in model.parameters():\n",
    "    param.requires_grad = False\n",
    "get_opt_input = GetOptInput(model)"
   ]
  },
  {
   "cell_type": "code",
   "execution_count": 68,
   "metadata": {},
   "outputs": [
    {
     "name": "stderr",
     "output_type": "stream",
     "text": [
      "/tmp/ipykernel_172865/654575621.py:16: UserWarning: To copy construct from a tensor, it is recommended to use sourceTensor.clone().detach() or sourceTensor.clone().detach().requires_grad_(True), rather than torch.tensor(sourceTensor).\n",
      "  self.aud = torch.tensor(aud)\n"
     ]
    }
   ],
   "source": [
    "for i in range(64):\n",
    "    get_opt_input.get_opt_input(torch.tensor(aud.astype('float32')).unsqueeze(0).T, layers[0], beta_l0[:, i].reshape(-1, 1).astype('float32'), iterations=100)\n",
    "    # loss_l0.append(get_opt_input.loss_list)\n",
    "    # spect_l0.append(get_opt_input.spect[0].detach().numpy().T)\n",
    "    np.save(f'/depot/jgmakin/data/auditory_cortex/opt_inputs/layer_0_channel_{i}.npy', get_opt_input.aud.detach().numpy(), allow_pickle=True)"
   ]
  },
  {
   "cell_type": "code",
   "execution_count": 78,
   "metadata": {},
   "outputs": [
    {
     "data": {
      "text/plain": [
       "[<matplotlib.lines.Line2D at 0x2b25ae07e610>]"
      ]
     },
     "execution_count": 78,
     "metadata": {},
     "output_type": "execute_result"
    },
    {
     "data": {
      "image/png": "[encoded data removed]",
      "text/plain": [
       "<Figure size 432x288 with 1 Axes>"
      ]
     },
     "metadata": {
      "needs_background": "light"
     },
     "output_type": "display_data"
    }
   ],
   "source": [
    "import matplotlib.pyplot as plt\n",
    "opt_aud = get_opt_input.aud.detach().numpy()[:, 0]\n",
    "# plt.plot()\n",
    "sr, b = read(\"/depot/jgmakin/data/audio_data/sent_0.wav\")\n",
    "\n",
    "plt.plot(opt_aud)"
   ]
  },
  {
   "cell_type": "code",
   "execution_count": 79,
   "metadata": {},
   "outputs": [
    {
     "data": {
      "text/plain": [
       "[<matplotlib.lines.Line2D at 0x2b25ba4f25b0>]"
      ]
     },
     "execution_count": 79,
     "metadata": {},
     "output_type": "execute_result"
    },
    {
     "data": {
      "image/png": "[encoded data removed]",
      "text/plain": [
       "<Figure size 432x288 with 1 Axes>"
      ]
     },
     "metadata": {
      "needs_background": "light"
     },
     "output_type": "display_data"
    }
   ],
   "source": [
    "plt.plot(b)"
   ]
  },
  {
   "cell_type": "code",
   "execution_count": null,
   "metadata": {},
   "outputs": [],
   "source": [
    "a = dataset.retrieve_spike_counts(sent=0, win=1.9)\n",
    "a[0].shape"
   ]
  }
 ],
 "metadata": {
  "kernelspec": {
   "display_name": "Python 3.8.13 ('research')",
   "language": "python",
   "name": "python3"
  },
  "language_info": {
   "codemirror_mode": {
    "name": "ipython",
    "version": 3
   },
   "file_extension": ".py",
   "mimetype": "text/x-python",
   "name": "python",
   "nbconvert_exporter": "python",
   "pygments_lexer": "ipython3",
   "version": "3.8.13"
  },
  "orig_nbformat": 4,
  "vscode": {
   "interpreter": {
    "hash": "c408ab8a03217f6e9092f099eca0907eb32b66978b2decf842aa5893f36a460f"
   }
  }
 },
 "nbformat": 4,
 "nbformat_minor": 2
}
